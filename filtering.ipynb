{
 "cells": [
  {
   "cell_type": "code",
   "execution_count": 43,
   "metadata": {},
   "outputs": [
    {
     "name": "stderr",
     "output_type": "stream",
     "text": [
      "C:\\Users\\shreya\\anaconda3\\lib\\site-packages\\IPython\\core\\interactiveshell.py:3063: DtypeWarning: Columns (9,10) have mixed types.Specify dtype option on import or set low_memory=False.\n",
      "  interactivity=interactivity, compiler=compiler, result=result)\n"
     ]
    }
   ],
   "source": [
    "import pandas as pd\n",
    "\n",
    "df = pd.read_csv('C:/D-drive-18921/College/AI System Design/ingredient-phrase-tagger/nyt-ingredients-snapshot-2015.csv')\n",
    "df.shape\n",
    "\n",
    "df.dropna(subset=['name', 'input'], inplace=True)\n",
    "df.reset_index(drop=True, inplace=True)\n",
    "df = df.iloc[:, [0,1,2,3,4,5,6]]\n",
    "\n",
    "garlic_ones = df[df['name'].str.contains('garlic clove|garlic cloves|cloves garlic| clove garlic')].index\n",
    "garlic_ones = list(garlic_ones)\n",
    "#print(garlic_ones)\n",
    "#print(garlic_ones)\n",
    "df.iloc[garlic_ones, 2] = 'garlic'\n",
    "df.iloc[garlic_ones, 5] = 'clove'\n",
    "\n",
    "cinnamon_ones = df[df['name'].str.contains('cinnamon stick|cinnamon sticks')].index\n",
    "df.iloc[cinnamon_ones, 2] = 'cinnamon'\n",
    "df.iloc[cinnamon_ones, 5] = 'stick'\n",
    "\n",
    "df['unit'] = df['unit'].astype(str)\n",
    "df = df[pd.to_numeric(df['qty'], errors='coerce').notnull()]\n",
    "df['qty'] = df['qty'].astype(float)\n",
    "\n",
    "df['input'] = df['input'].apply(lambda x: x.replace('tbsp', 'tablespoon'))\n",
    "df['input'] = df['input'].apply(lambda x: x.replace('tsp', 'teaspoon'))\n",
    "df['input'] = df['input'].apply(lambda x: x.replace('tbsps', 'tablespoon'))\n",
    "df['input'] = df['input'].apply(lambda x: x.replace('tsps', 'teaspoon'))\n",
    "df['input'] = df['input'].apply(lambda x: x.replace('ml ', ' millilitre '))\n",
    "df['input'] = df['input'].apply(lambda x: x.replace('0g ', '0 gram '))\n",
    "df['input'] = df['input'].apply(lambda x: x.replace('5g ', '5 gram '))\n",
    "\n",
    "df['unit'] = df['unit'].apply(lambda x: x.replace('ml', 'millilitre'))\n",
    "df['unit'] = df['unit'].apply(lambda x: x.replace('tbsp', 'tablespoon'))\n",
    "df['unit'] = df['unit'].apply(lambda x: x.replace('tsp', 'teaspoon'))\n",
    "\n",
    "\n",
    "# df['name'] = df['name'].apply(f)\n",
    "# # df[df['name'].str.contains('garlic')]\n",
    "# import numpy as np\n",
    "# df.shape\n",
    "# np.unique(df[df['name'].str.contains('garlic')]['name'])\n",
    "# df['input'] = df[\"input\"].replace({\"tbsp\": \"tablespoon\", \"tsp\": \"teaspoon\", \"ml \": \" millilitre \"})\n",
    "# df['unit'] = df[\"unit\"].replace({\"tbsp\": \"tablespoon\", \"tsp\": \"teaspoon\", \"ml\": \" millilitre \"})\n",
    "\n",
    "# df.columns\n",
    "df.to_csv('nyt_filtered.csv', index=False)\n",
    "# df[df['unit'].str.contains('millilitre')]"
   ]
  },
  {
   "cell_type": "code",
   "execution_count": 45,
   "metadata": {},
   "outputs": [
    {
     "data": {
      "text/plain": [
       "(5000, 2)"
      ]
     },
     "execution_count": 45,
     "metadata": {},
     "output_type": "execute_result"
    }
   ],
   "source": [
    "import pandas as pd\n",
    "import numpy as np\n",
    "import json\n",
    "import subprocess\n",
    "\n",
    "df = pd.read_csv('ingr.csv', encoding='latin-1')\n",
    "\n",
    "df_new = df.groupby('recipe_id')['ingredients'].apply(list).reset_index(name='ingredients')\n",
    "# df_new = df_new.iloc[0:5000, :]\n",
    "ingredients = df_new['ingredients'].to_numpy()\n",
    "\n",
    "parsed_ingr = []\n",
    "i=0\n",
    "for ingr in ingredients:\n",
    "    with open('tmp/parser-input.txt', 'w') as f:\n",
    "        f.write('\\n'.join(str(ingr)))\n",
    "    with open('tmp/parser-output.txt', 'w') as f:\n",
    "        bash_cmd = \"python bin/parse-ingredients.py tmp/parser-input.txt\"\n",
    "        process = subprocess.check_call(bash_cmd.split(), stdout=f)\n",
    "    with open('tmp/parser-output.json', 'w') as f:\n",
    "        bash_cmd = \"python bin/convert-to-json.py tmp/parser-output.txt\"\n",
    "        process = subprocess.check_call(bash_cmd.split(), stdout=f)\n",
    "    with open('tmp/parser-output.json', 'r') as f:\n",
    "        pingr = json.load(f)\n",
    "    parsed_ingr.append(pingr)\n",
    "    if i%100==0:\n",
    "        print(\"%d Iteration done\")\n",
    "    i+=1\n",
    "        \n",
    "np.savetxt('parsed_ingredients.csv', parsed_ingr, delimiter=',')"
   ]
  },
  {
   "cell_type": "code",
   "execution_count": null,
   "metadata": {},
   "outputs": [],
   "source": []
  }
 ],
 "metadata": {
  "kernelspec": {
   "display_name": "Python 3",
   "language": "python",
   "name": "python3"
  },
  "language_info": {
   "codemirror_mode": {
    "name": "ipython",
    "version": 3
   },
   "file_extension": ".py",
   "mimetype": "text/x-python",
   "name": "python",
   "nbconvert_exporter": "python",
   "pygments_lexer": "ipython3",
   "version": "3.7.6"
  }
 },
 "nbformat": 4,
 "nbformat_minor": 4
}
